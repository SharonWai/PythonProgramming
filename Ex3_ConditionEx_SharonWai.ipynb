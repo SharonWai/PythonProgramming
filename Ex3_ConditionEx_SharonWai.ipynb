{
  "nbformat": 4,
  "nbformat_minor": 0,
  "metadata": {
    "colab": {
      "name": "Ex3_ConditionEx.ipynb",
      "provenance": [],
      "include_colab_link": true
    },
    "kernelspec": {
      "name": "python3",
      "display_name": "Python 3"
    },
    "language_info": {
      "name": "python"
    }
  },
  "cells": [
    {
      "cell_type": "markdown",
      "metadata": {
        "id": "view-in-github",
        "colab_type": "text"
      },
      "source": [
        "<a href=\"https://colab.research.google.com/github/SharonWai/PythonProgramming/blob/SharonWai/Ex3_ConditionEx_SharonWai.ipynb\" target=\"_parent\"><img src=\"https://colab.research.google.com/assets/colab-badge.svg\" alt=\"Open In Colab\"/></a>"
      ]
    },
    {
      "cell_type": "markdown",
      "source": [
        "Write a program that asks the user to enter a length in centimeters. If the user enters a negative length, the program should tell the user that the entry is invalid. Otherwise, the program should convert the length to inches and print out the result. There are 2.54 centimeters in an inch.\n"
      ],
      "metadata": {
        "id": "r9njLbxcvG0w"
      }
    },
    {
      "cell_type": "code",
      "source": [
        "length_cm = float(input(\"Enter length in centimeters:\"))\n",
        "if length_cm < 0:\n",
        "  print(\"Entry is invalid\")\n",
        "else:\n",
        "  inches_cm = 1 / 2.54\n",
        "  length_inches = length_cm*inches_cm\n",
        "  print(f\"{length_cm} centimeter is equal to {length_inches} inches\")"
      ],
      "metadata": {
        "id": "76EFWr1AvMy4",
        "colab": {
          "base_uri": "https://localhost:8080/"
        },
        "outputId": "0d8e5317-a746-48cf-e5f1-a631c9c8a54b"
      },
      "execution_count": 5,
      "outputs": [
        {
          "output_type": "stream",
          "name": "stdout",
          "text": [
            "Enter length in centimeters:10\n",
            "10.0 centimeter is equal to 3.9370078740157477 inches\n"
          ]
        }
      ]
    },
    {
      "cell_type": "markdown",
      "source": [
        "Ask the user to enter a temperature in Celsius. The program should print a message based on the temperature:\n",
        "\n",
        "*   If the temperature is less than -273.15, print that the temperature is invalid because it is below absolute zero.\n",
        "*   If it is exactly -273.15, print that the temperature is absolute 0.\n",
        "*   If the temperature is between -273.15 and 0, print that the temperature is below freezing.\n",
        "*   If it is 0, print that the temperature is at the freezing point.\n",
        "*   If it is between 0 and 100, print that the temperature is in the normal range.\n",
        "*   If it is 100, print that the temperature is at the boiling point.\n",
        "*   If it is above 100, print that the temperature is above the boiling point."
      ],
      "metadata": {
        "id": "zvaDTmuhvNWJ"
      }
    },
    {
      "cell_type": "code",
      "source": [
        "Temp = input(\"Enter a temperature in Celsius:\")\n",
        "Temp = float(Temp)\n",
        "if Temp <-273.15:\n",
        "  print(\"The temperature is invalid because it is below absolute zero\")\n",
        "elif Temp == -273.15:\n",
        "  print(\"The temperature is absolute 0\")\n",
        "elif -273.15>Temp>0:\n",
        "  print(\"The temperature is below freezing\")\n",
        "elif Temp == 0:\n",
        "  print(\"The temperature is at the freezing point\")\n",
        "elif 0>Temp>100:\n",
        "  print(\"The temperature is in the normal range\")\n",
        "elif Temp == 100:\n",
        "  print(\"The temperature is at the boiling point\")\n",
        "else:\n",
        "  print(\"The temperature is above the boiling point\")"
      ],
      "metadata": {
        "id": "UiCbUIcwvqxO",
        "colab": {
          "base_uri": "https://localhost:8080/"
        },
        "outputId": "38ea1cff-d552-4300-8cc1-434f9bbd66fd"
      },
      "execution_count": 6,
      "outputs": [
        {
          "output_type": "stream",
          "name": "stdout",
          "text": [
            "Enter a temperature in Celsius:105\n",
            "The temperature is above the boiling point\n"
          ]
        }
      ]
    },
    {
      "cell_type": "markdown",
      "source": [
        "Write a program that asks the user how many credits they have taken. If they have taken 23 or less, print that the student is a freshman. If they have taken between 24 and 53, print that they are a sophomore. The range for juniors is 54 to 83, and for seniors it is 84 and over."
      ],
      "metadata": {
        "id": "hoczytNLvrnd"
      }
    },
    {
      "cell_type": "code",
      "source": [
        "Credit = input(\"How many credits users have taken?\")\n",
        "Credit = int(Credit)\n",
        "if Credit <= 23:\n",
        "  print(\"The student is a freshman\")\n",
        "elif Credit >= 24 and Credit <=53:\n",
        "  print(\"The student is a sophomore\")\n",
        "elif Credit >= 54 and Credit <=83:\n",
        "  print(\"The student is a junior\")\n",
        "else:\n",
        "  print(\"The student is a senior\")"
      ],
      "metadata": {
        "id": "r8_O-_zLvurf",
        "colab": {
          "base_uri": "https://localhost:8080/"
        },
        "outputId": "55c9aeb3-6033-4cca-dfb4-8233ba4a965f"
      },
      "execution_count": 7,
      "outputs": [
        {
          "output_type": "stream",
          "name": "stdout",
          "text": [
            "How many credits users have taken?85\n",
            "The student is a senior\n"
          ]
        }
      ]
    },
    {
      "cell_type": "code",
      "source": [],
      "metadata": {
        "id": "luK9rtam3C7_"
      },
      "execution_count": null,
      "outputs": []
    }
  ]
}